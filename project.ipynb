{
 "cells": [
  {
   "cell_type": "code",
   "execution_count": null,
   "metadata": {
    "id": "3Y6FeT6Ft-MG"
   },
   "outputs": [],
   "source": [
    "import numpy as np\n",
    "import matplotlib.pyplot as plt\n",
    "import plotly.graph_objects as go # visualize point clouds\n",
    "import cv2"
   ]
  },
  {
   "cell_type": "markdown",
   "metadata": {
    "id": "yce_M-Lbt-MI"
   },
   "source": [
    "## Filestructure\n",
    "You can download the data in the LiDAR/RADAR moodle course (Dataset2022): https://elearning.rwu.de/course/view.php?id=2344.  \n",
    "The downloaded file is a zip, to use it you have to unzip it.  \n",
    "After unzipping you will find two folders in _Dataset2022_ you will find two folders:\n",
    "* _record1_ - forth and back drive of the car (240 Frames)\n",
    "* _record2_ - right to left drive of the car (100 Frames)\n",
    "\n",
    "Inside every recording folder you find 5 folders:\n",
    "* _blickfeld_ - containing the data from the Blickfeld Cube (.csv files)\n",
    "* _camera_ - containing the data from the camera (.jpg files)\n",
    "* _groundtruth_ - containing the data for the bounding box around the vehicel (.csv files)\n",
    "* _radar_ - containing the data from the Texas Instruments RADAR (.csv files)\n",
    "* _velodyne_ - containing the data from the Velodyne Puck (.csv files)\n",
    "\n",
    "So we can set pathes to the data:"
   ]
  },
  {
   "cell_type": "code",
   "execution_count": null,
   "metadata": {
    "id": "lb3x1ZpJt-MN"
   },
   "outputs": [],
   "source": [
    "record_number = 1 # Either record 1 or record 2\n",
    "\n",
    "root = f\"./Dataset2022/record{record_number}/\"\n",
    "path_blickfeld = f\"{root}/blickfeld\"\n",
    "path_camera = f\"{root}/camera\"\n",
    "path_groundtruth = f\"{root}/groundtruth\"\n",
    "path_radar = f\"{root}/radar\"\n",
    "path_velodyne = f\"{root}/velodyne\""
   ]
  },
  {
   "cell_type": "markdown",
   "metadata": {
    "id": "G8LKbW07t-MP"
   },
   "source": [
    "### Loading the data\n",
    "To work with the data we have to load it into our python script. The data here are either .jpg files or .csv files. There are multiple ways to load these types of files. We will present here one way.\n",
    "#### Loading .csv files\n",
    "CSV is an acronym for Comma-Separated Values. While typically commas are used to seperate the values, they can also be seperated by whitespace or other symbols. In our files the data is seperated by whitespaces. Hence, for loading the data we will use the numpy function loadtxt (https://numpy.org/doc/stable/reference/generated/numpy.loadtxt.html). Because of the given datastructure, we can use the default parameters of loadtxt and just have to give the file path.  \n",
    "As .csv files are the point clouds stored and the groundtruth.\n",
    "#### Loading .jpg files\n",
    "JPG files contain an compressed digital image. To load this we will use here a the function imread from cv2 (https://docs.opencv.org/3.4/d4/da8/group__imgcodecs.html#ga288b8b3da0892bd651fce07b3bbd3a56). The function also just takes the image path."
   ]
  },
  {
   "cell_type": "code",
   "execution_count": null,
   "metadata": {
    "id": "PsV_PHyHt-MQ"
   },
   "outputs": [],
   "source": [
    "def readPC(path):\n",
    "    \"\"\"\n",
    "       Will return a numpy array of\n",
    "       shape:\n",
    "       Nx4 for LiDAR Data (x,y,z,itensity)\n",
    "       Nx5 for RADAR Data (x,y,z,velocity,itensity)\n",
    "       \n",
    "    \"\"\"\n",
    "    return np.loadtxt(path)\n",
    "\n",
    "def readImage(path):\n",
    "    \"\"\"\n",
    "       Will return an numpy array of\n",
    "       shape height x width x 3.\n",
    "    \"\"\"\n",
    "    return cv2.imread(path)#[:,:,[2,1,0]]\n",
    "\n",
    "def readLabels(path):\n",
    "    \"\"\"\n",
    "       Reads the ground truth labels.\n",
    "       In the labels are the following\n",
    "       information stored:\n",
    "       1. width in m\n",
    "       2. length in m\n",
    "       3. height in m\n",
    "       4.-6. Coordinates of the center in m\n",
    "       7. yaw rotation in degree\n",
    "    \"\"\"\n",
    "    return np.loadtxt(path)"
   ]
  },
  {
   "cell_type": "code",
   "execution_count": null,
   "metadata": {
    "id": "flmpvpCSt-MS"
   },
   "outputs": [],
   "source": [
    "frame_id = 120\n",
    "assert (record_number == 1 and frame_id < 240) or (record_number == 2 and frame_id < 100), \\\n",
    "    \"Record number 1 only has 240 frames and\"\\\n",
    "    \" record number 2 only has 100 frames.\"\n",
    "pc_blick = readPC(f\"{path_blickfeld}/{frame_id:06d}.csv\")\n",
    "pc_velo = readPC(f\"{path_velodyne}/{frame_id:06d}.csv\")\n",
    "pc_radar = readPC(f\"{path_radar}/{frame_id:06d}.csv\")\n",
    "label = readLabels(f\"{path_groundtruth}/{frame_id:06d}.csv\")\n",
    "img = readImage(f\"{path_camera}/{frame_id:06d}.jpg\")"
   ]
  },
  {
   "cell_type": "code",
   "execution_count": null,
   "metadata": {
    "id": "lpo2OOfHt-MU",
    "outputId": "7afb2a46-858d-40e7-dbf1-55340632a90c"
   },
   "outputs": [],
   "source": [
    "print(f\"Blickfeld point cloud shape: {pc_blick.shape}\\n\\\n",
    "Velodyne point cloud shape: {pc_velo.shape}\\n\\\n",
    "Radar point cloud shape: {pc_radar.shape}\\n\\\n",
    "Label data shape: {label.shape}\\n\\\n",
    "Image shape: {img.shape}\")"
   ]
  },
  {
   "cell_type": "code",
   "execution_count": null,
   "metadata": {
    "id": "rA3yef3it-MV"
   },
   "outputs": [],
   "source": [
    "pc_blick"
   ]
  },
  {
   "cell_type": "code",
   "execution_count": null,
   "metadata": {
    "id": "G1raJAyyt-MV"
   },
   "outputs": [],
   "source": [
    "pc_velo"
   ]
  },
  {
   "cell_type": "code",
   "execution_count": null,
   "metadata": {
    "id": "VfXyq8zzt-MX"
   },
   "outputs": [],
   "source": [
    "pc_radar"
   ]
  },
  {
   "cell_type": "code",
   "execution_count": null,
   "metadata": {
    "id": "1QdUXDWKt-MX"
   },
   "outputs": [],
   "source": [
    "label"
   ]
  },
  {
   "cell_type": "code",
   "execution_count": null,
   "metadata": {
    "id": "BwVbIyqZt-MY"
   },
   "outputs": [],
   "source": [
    "img"
   ]
  },
  {
   "cell_type": "markdown",
   "metadata": {
    "id": "BZ6Iusgat-MZ"
   },
   "source": [
    "## Visualization\n",
    "To understand the data easier, we visualize them. We can use the package matplotlib.pyplot and/or plotly."
   ]
  },
  {
   "cell_type": "code",
   "execution_count": null,
   "metadata": {
    "id": "TDkBnAM6t-Ma"
   },
   "outputs": [],
   "source": [
    "plt.imshow(img) # cv2 color order is (blue, green, red) \n",
    "                # and of matplotlib.pyplot is (red, green, blue)"
   ]
  },
  {
   "cell_type": "code",
   "execution_count": null,
   "metadata": {
    "id": "-E4D2Yx2t-Md"
   },
   "outputs": [],
   "source": [
    "def readImage(path):\n",
    "    \"\"\"\n",
    "       Will return an numpy array of\n",
    "       shape height x width x 3.\n",
    "    \"\"\"\n",
    "    return cv2.imread(path)[:,:,[2,1,0]]"
   ]
  },
  {
   "cell_type": "code",
   "execution_count": null,
   "metadata": {
    "id": "tBaf1Eg_t-Me"
   },
   "outputs": [],
   "source": [
    "img = readImage(f\"{path_camera}/{frame_id:06d}.jpg\")"
   ]
  },
  {
   "cell_type": "code",
   "execution_count": null,
   "metadata": {
    "id": "H71ExTIdt-Mh"
   },
   "outputs": [],
   "source": [
    "plt.imshow(img)"
   ]
  },
  {
   "cell_type": "code",
   "execution_count": null,
   "metadata": {
    "id": "uzMRqS6mt-Mj"
   },
   "outputs": [],
   "source": [
    "plt.figure(figsize=(40,30)) # Size of the Figure\n",
    "plt.axis(\"off\") # Deletes the axis\n",
    "plt.imshow(img) "
   ]
  },
  {
   "cell_type": "markdown",
   "metadata": {
    "id": "xXsNNfbQt-Ml"
   },
   "source": [
    "Can use matplotlib.pyplot.scatter to visualize the point clouds, but only 2D."
   ]
  },
  {
   "cell_type": "code",
   "execution_count": null,
   "metadata": {
    "id": "efmXd5got-Ml"
   },
   "outputs": [],
   "source": [
    "plt.scatter(pc_blick[:,0],pc_blick[:,1], s = 1, c = pc_blick[:,2])"
   ]
  },
  {
   "cell_type": "markdown",
   "metadata": {
    "id": "3PjoHJ_Zt-Mm"
   },
   "source": [
    "For 3D we can use plotly.graph_objects:"
   ]
  },
  {
   "cell_type": "code",
   "execution_count": null,
   "metadata": {
    "id": "VqgY4TGgt-Mm"
   },
   "outputs": [],
   "source": [
    "data = [go.Scatter3d(x = pc_blick[:,0],\n",
    "                     y = pc_blick[:,1],\n",
    "                     z = pc_blick[:,2],\n",
    "                    mode='markers', type='scatter3d',\n",
    "                    text=np.arange(pc_blick.shape[0]),\n",
    "                    marker={\n",
    "                        'size': 2,\n",
    "                        'color': pc_blick[:,2],\n",
    "                        'colorscale':'rainbow',\n",
    "})\n",
    "]\n",
    "\n",
    "go.Figure(data=data)"
   ]
  },
  {
   "cell_type": "code",
   "execution_count": null,
   "metadata": {
    "id": "gTpErYP0t-Mn"
   },
   "outputs": [],
   "source": [
    "data = [go.Scatter3d(x = pc_velo[:,0],\n",
    "                     y = pc_velo[:,1],\n",
    "                     z = pc_velo[:,2],\n",
    "                    mode='markers', type='scatter3d',\n",
    "                    text=np.arange(pc_velo.shape[0]),\n",
    "                    marker={\n",
    "                        'size': 2,\n",
    "                        'color': pc_velo[:,2],\n",
    "                        'colorscale':'rainbow',\n",
    "})\n",
    "]\n",
    "go.Figure(data=data)"
   ]
  },
  {
   "cell_type": "code",
   "execution_count": null,
   "metadata": {
    "id": "Ndobm17kt-Mo"
   },
   "outputs": [],
   "source": [
    "data = [go.Scatter3d(x = pc_radar[:,0],\n",
    "                     y = pc_radar[:,1],\n",
    "                     z = pc_radar[:,2],\n",
    "                    mode='markers', type='scatter3d',\n",
    "                    text=np.arange(pc_radar.shape[0]),\n",
    "                    marker={\n",
    "                        'size': 2,\n",
    "                        'color': pc_radar[:,2],\n",
    "                        'colorscale':'rainbow',\n",
    "})\n",
    "]\n",
    "\n",
    "go.Figure(data=data)"
   ]
  },
  {
   "cell_type": "code",
   "execution_count": null,
   "metadata": {
    "id": "MDRehoTzt-Mp"
   },
   "outputs": [],
   "source": [
    "data = [go.Scatter3d(x = pc_blick[:,0],\n",
    "                     y = pc_blick[:,1],\n",
    "                     z = pc_blick[:,2],\n",
    "                    mode='markers', type='scatter3d',\n",
    "                    text=np.arange(pc_blick.shape[0]),\n",
    "                    marker={\n",
    "                        'size': 2,\n",
    "                        'color': pc_blick[:,2],\n",
    "                        'colorscale':'rainbow',\n",
    "})\n",
    "]\n",
    "layout = go.Layout(\n",
    "    scene={\n",
    "        'xaxis': {'range': [-15, 15]},\n",
    "        'yaxis': {'range': [0, 30]},\n",
    "        'zaxis': {'range': [-10., 20.]},\n",
    "    }\n",
    "                        \n",
    ")\n",
    "go.Figure(data=data,layout=layout)"
   ]
  },
  {
   "cell_type": "code",
   "execution_count": null,
   "metadata": {
    "id": "4FIuA1m0t-Mq"
   },
   "outputs": [],
   "source": [
    "data = [go.Scatter3d(x = pc_velo[:,0],\n",
    "                     y = pc_velo[:,1],\n",
    "                     z = pc_velo[:,2],\n",
    "                    mode='markers', type='scatter3d',\n",
    "                    text=np.arange(pc_velo.shape[0]),\n",
    "                    marker={\n",
    "                        'size': 2,\n",
    "                        'color': pc_velo[:,2],\n",
    "                        'colorscale':'rainbow',\n",
    "})\n",
    "]\n",
    "layout = go.Layout(\n",
    "    scene={\n",
    "        'xaxis': {'range': [-15, 15]},\n",
    "        'yaxis': {'range': [0, 30]},\n",
    "        'zaxis': {'range': [-10., 20.]},\n",
    "    }\n",
    "                        \n",
    ")\n",
    "go.Figure(data=data,layout=layout)"
   ]
  },
  {
   "cell_type": "code",
   "execution_count": null,
   "metadata": {
    "id": "DcAQOFYmt-Mr"
   },
   "outputs": [],
   "source": [
    "data = [go.Scatter3d(x = pc_radar[:,0],\n",
    "                     y = pc_radar[:,1],\n",
    "                     z = pc_radar[:,2],\n",
    "                    mode='markers', type='scatter3d',\n",
    "                    text=np.arange(pc_radar.shape[0]),\n",
    "                    marker={\n",
    "                        'size': 2,\n",
    "                        'color': pc_radar[:,2],\n",
    "                        'colorscale':'rainbow',\n",
    "})\n",
    "]\n",
    "layout = go.Layout(\n",
    "    scene={\n",
    "        'xaxis': {'range': [-15, 15]},\n",
    "        'yaxis': {'range': [0, 30]},\n",
    "        'zaxis': {'range': [-10., 20.]},\n",
    "    }\n",
    "                        \n",
    ")\n",
    "go.Figure(data=data,layout=layout)"
   ]
  },
  {
   "cell_type": "code",
   "execution_count": null,
   "metadata": {
    "id": "erw5g4REt-Ms"
   },
   "outputs": [],
   "source": [
    "data = [go.Scatter3d(x = pc_blick[:,0],\n",
    "                     y = pc_blick[:,1],\n",
    "                     z = pc_blick[:,2],\n",
    "                    mode='markers', type='scatter3d',\n",
    "                    text=np.arange(pc_blick.shape[0]),\n",
    "                    marker={\n",
    "                        'size': 2,\n",
    "                        'color': \"green\",\n",
    "                        'colorscale':'rainbow',\n",
    "}),\n",
    "                go.Scatter3d(x = pc_velo[:,0],\n",
    "                    y = pc_velo[:,1],\n",
    "                    z = pc_velo[:,2],\n",
    "                    mode='markers', type='scatter3d',\n",
    "                    text=np.arange(pc_velo.shape[0]),\n",
    "                    marker={\n",
    "                        'size': 2,\n",
    "                        'color': \"yellow\",\n",
    "                        'colorscale':'rainbow',\n",
    "}),     \n",
    "                go.Scatter3d(x = pc_radar[:,0],\n",
    "                    y = pc_radar[:,1],\n",
    "                    z = pc_radar[:,2],\n",
    "                    mode='markers', type='scatter3d',\n",
    "                    text=np.arange(pc_radar.shape[0]),\n",
    "                    marker={\n",
    "                        'size': 2,\n",
    "                        'color': \"blue\",\n",
    "                        'colorscale':'rainbow',\n",
    "})\n",
    "]\n",
    "layout = go.Layout(\n",
    "    scene={\n",
    "        'xaxis': {'range': [-20, 20], 'rangemode': 'tozero', 'tick0': -5},\n",
    "        'yaxis': {'range': [0, 40], 'rangemode': 'tozero', 'tick0': -5},\n",
    "        'zaxis': {'range': [-20., 20.], 'rangemode': 'tozero'}\n",
    "    }\n",
    ")\n",
    "go.Figure(data=data, layout = layout)"
   ]
  },
  {
   "cell_type": "code",
   "execution_count": null,
   "metadata": {
    "id": "3GN0YzsIt-Mt"
   },
   "outputs": [],
   "source": [
    "data = [go.Scatter3d(x = pc_blick[:,0],\n",
    "                     y = pc_blick[:,1],\n",
    "                     z = pc_blick[:,2],\n",
    "                    mode='markers', type='scatter3d',\n",
    "                    text=np.arange(pc_blick.shape[0]),\n",
    "                    marker={\n",
    "                        'size': 2,\n",
    "                        'color': pc_blick[:,2],\n",
    "                        'colorscale':'rainbow',\n",
    "}),\n",
    "        go.Scatter3d(x = [label[3]],\n",
    "                     y = [label[4]],\n",
    "                     z = [label[5]],\n",
    "                    mode='markers', type='scatter3d',\n",
    "                    marker={\n",
    "                        'size': 5,\n",
    "                        'color': \"red\",\n",
    "                        'colorscale':'rainbow',\n",
    "})\n",
    "]\n",
    "layout = go.Layout(\n",
    "    scene={\n",
    "        'xaxis': {'range': [-20, 20]},\n",
    "        'yaxis': {'range': [0, 40]},\n",
    "        'zaxis': {'range': [-20., 20.]},\n",
    "    }\n",
    "                        \n",
    ")\n",
    "go.Figure(data=data,layout=layout)"
   ]
  },
  {
   "cell_type": "markdown",
   "metadata": {
    "id": "sXeCzcWot-Mt"
   },
   "source": [
    "If we want to visualize the groundtruth properly, we have to transform the label such that we have the 8 corners of the bounding box.\n",
    "The steps are the following:\n",
    "1. Generate a box of the right dimension\n",
    "2. Rotate the corners according to the yaw rotation\n",
    "3. Translate the corners according to the center coordinates"
   ]
  },
  {
   "cell_type": "code",
   "execution_count": null,
   "metadata": {
    "id": "FWOe8BfKt-Mu"
   },
   "outputs": [],
   "source": [
    "def rt_matrix(roll=0, pitch=0, yaw=0):\n",
    "    \"\"\"\n",
    "        Returns a 3x3 Rotation Matrix. Angels in degree!\n",
    "    \"\"\"\n",
    "    yaw = yaw * np.pi / 180\n",
    "    roll = roll * np.pi / 180\n",
    "    pitch = pitch * np.pi / 180\n",
    "    c_y = np.cos(yaw)\n",
    "    s_y = np.sin(yaw)\n",
    "    c_r = np.cos(roll)\n",
    "    s_r = np.sin(roll)\n",
    "    c_p = np.cos(pitch)\n",
    "    s_p = np.sin(pitch)\n",
    "    \n",
    "    # Rotationmatrix\n",
    "    rot = np.dot(np.dot(np.array([[c_y, - s_y,   0],\n",
    "                                  [s_y,   c_y,   0],\n",
    "                                  [0,      0,    1]]),\n",
    "                        np.array([[c_p,    0,    s_p],\n",
    "                                  [0,      1,    0],\n",
    "                                  [-s_p,   0,    c_p]])),\n",
    "                        np.array([[1,      0,    0],\n",
    "                                  [0,     c_r, - s_r],\n",
    "                                  [0,     s_r,   c_r]]))\n",
    "    return rot\n",
    "\n",
    "def rotate_points(points, rot_t):\n",
    "    \"\"\"\n",
    "        Input must be of shape N x 3\n",
    "        Returns the rotated point cloud for a given roation matrix \n",
    "        and point cloud.\n",
    "    \"\"\"\n",
    "    points[0:3,:] = np.dot(rot_t, points[0:3,:])\n",
    "    return points\n",
    "\n",
    "def make_boundingbox(label):\n",
    "    \"\"\"\n",
    "        Returns the corners of a bounding box from a label.\n",
    "    \"\"\"\n",
    "    corner = np.array([\n",
    "        [+ label[0]/2, + label[1]/2, + label[2]/2],\n",
    "        [+ label[0]/2, + label[1]/2, - label[2]/2],\n",
    "        [+ label[0]/2, - label[1]/2, + label[2]/2],\n",
    "        [+ label[0]/2, - label[1]/2, - label[2]/2],\n",
    "        [- label[0]/2, + label[1]/2, + label[2]/2],\n",
    "        [- label[0]/2, - label[1]/2, + label[2]/2],\n",
    "        [- label[0]/2, + label[1]/2, - label[2]/2],\n",
    "        [- label[0]/2, - label[1]/2, - label[2]/2],\n",
    "    ])\n",
    "    corner = rotate_points(corner.T, rt_matrix(yaw = label[6]))\n",
    "    corner = corner.T + label[3:6]\n",
    "    return corner"
   ]
  },
  {
   "cell_type": "code",
   "execution_count": null,
   "metadata": {
    "id": "nfEfuPmXt-Mv"
   },
   "outputs": [],
   "source": [
    "bb = make_boundingbox(label)\n",
    "\n",
    "# New bounding box for the visualization\n",
    "bb = np.array([bb[0],bb[1],bb[3],bb[2],bb[0],bb[4],bb[5],\n",
    "               bb[2],bb[3],bb[7],bb[5],bb[4],bb[6],bb[7],bb[6],bb[1]])"
   ]
  },
  {
   "cell_type": "code",
   "execution_count": null,
   "metadata": {
    "id": "MDcDRKtvt-Mv"
   },
   "outputs": [],
   "source": [
    "data = [go.Scatter3d(x = pc_blick[:,0],\n",
    "                     y = pc_blick[:,1],\n",
    "                     z = pc_blick[:,2],\n",
    "                    mode='markers', type='scatter3d',\n",
    "                    text=np.arange(pc_blick.shape[0]),\n",
    "                    marker={\n",
    "                        'size': 2,\n",
    "                        'color': \"green\",\n",
    "                        'colorscale':'rainbow',\n",
    "}),\n",
    "                go.Scatter3d(x = pc_velo[:,0],\n",
    "                    y = pc_velo[:,1],\n",
    "                    z = pc_velo[:,2],\n",
    "                    mode='markers', type='scatter3d',\n",
    "                    text=np.arange(pc_velo.shape[0]),\n",
    "                    marker={\n",
    "                        'size': 2,\n",
    "                        'color': \"yellow\",\n",
    "                        'colorscale':'rainbow',\n",
    "}),     \n",
    "                go.Scatter3d(x = pc_radar[:,0],\n",
    "                    y = pc_radar[:,1],\n",
    "                    z = pc_radar[:,2],\n",
    "                    mode='markers', type='scatter3d',\n",
    "                    text=np.arange(pc_radar.shape[0]),\n",
    "                    marker={\n",
    "                        'size': 2,\n",
    "                        'color': \"blue\",\n",
    "                        'colorscale':'rainbow',\n",
    "}),        \n",
    "                go.Scatter3d(x = bb[:,0],\n",
    "                    y = bb[:,1],\n",
    "                    z = bb[:,2],\n",
    "                    mode='lines', type='scatter3d',\n",
    "                    line={\n",
    "                        'width': 10,\n",
    "                        'color': \"red\",\n",
    "                        'colorscale':'rainbow'\n",
    "})\n",
    "]\n",
    "layout = go.Layout(\n",
    "    scene={\n",
    "        'xaxis': {'range': [-20, 20], 'rangemode': 'tozero', 'tick0': -5},\n",
    "        'yaxis': {'range': [0, 40], 'rangemode': 'tozero', 'tick0': -5},\n",
    "        'zaxis': {'range': [-20., 20.], 'rangemode': 'tozero'}\n",
    "    }\n",
    ")\n",
    "go.Figure(data=data, layout = layout)"
   ]
  },
  {
   "cell_type": "code",
   "execution_count": null,
   "metadata": {
    "id": "uPD4B_Zzt-Mw"
   },
   "outputs": [],
   "source": [
    "def get_sub_points_of_object(obj, pc):\n",
    "    \"\"\"\n",
    "       Determines those points of the point cloud (pc)\n",
    "       that are inside of the object (obj).\n",
    "    \"\"\"\n",
    "    # 1. Get the bounding box corners.\n",
    "    \n",
    "    # 2. Rotate the data such that the edges of the\n",
    "    #    bounding box is aligned with the axis.\n",
    "    #    For this we rotate the point cloud and the \n",
    "    #    corners into the opposite direction than \n",
    "    #    stated by the yaw value from the groundtruth\n",
    "    #    file. Calculate the inverse of the\n",
    "    #    rotation matrix.\n",
    "\n",
    "    # 3. We need for every dimension the minimal and\n",
    "    #    maximal value of the corners.\n",
    "    \n",
    "    # 4. Only those points of the point cloud that are\n",
    "    #    smaller than the maximum and larger than the \n",
    "    #    minimum in every dimension are inside the box.\n"
   ]
  },
  {
   "cell_type": "code",
   "execution_count": null,
   "metadata": {
    "id": "BATQIarnt-Mx"
   },
   "outputs": [],
   "source": [
    "from getSubPoints import get_sub_points_of_object"
   ]
  },
  {
   "cell_type": "code",
   "execution_count": null,
   "metadata": {
    "id": "ONpNJoNzt-Mx"
   },
   "outputs": [],
   "source": [
    "subpoints = get_sub_points_of_object(label, pc_blick[:,0:3])"
   ]
  },
  {
   "cell_type": "code",
   "execution_count": null,
   "metadata": {
    "id": "lTVcKaRwt-Mx"
   },
   "outputs": [],
   "source": [
    "data = [go.Scatter3d(x = pc_blick[:,0],\n",
    "                     y = pc_blick[:,1],\n",
    "                     z = pc_blick[:,2],\n",
    "                    mode='markers', type='scatter3d',\n",
    "                    text=np.arange(pc_blick.shape[0]),\n",
    "                    marker={\n",
    "                        'size': 2,\n",
    "                        'color': \"green\",\n",
    "                        'colorscale':'rainbow',\n",
    "}),\n",
    "        go.Scatter3d(x = subpoints[1][:,0],\n",
    "                     y = subpoints[1][:,1],\n",
    "                     z = subpoints[1][:,2],\n",
    "                    mode='markers', type='scatter3d',\n",
    "                    marker={\n",
    "                        'size': 2,\n",
    "                        'color': \"blue\",\n",
    "                        'colorscale':'rainbow',\n",
    "}),\n",
    "        go.Scatter3d(x = bb[:,0],\n",
    "                     y = bb[:,1],\n",
    "                     z = bb[:,2],\n",
    "                    mode='lines', type='scatter3d',\n",
    "                    line={\n",
    "                        'width': 10,\n",
    "                        'color': \"red\",\n",
    "                        'colorscale':'rainbow'\n",
    "})\n",
    "]\n",
    "layout = go.Layout(\n",
    "    scene={\n",
    "        'xaxis': {'range': [-20, 20], 'rangemode': 'tozero', 'tick0': -5},\n",
    "        'yaxis': {'range': [0, 40], 'rangemode': 'tozero', 'tick0': -5},\n",
    "        'zaxis': {'range': [-20., 20.], 'rangemode': 'tozero'}\n",
    "    }\n",
    ")\n",
    "go.Figure(data=data, layout = layout)"
   ]
  },
  {
   "cell_type": "code",
   "execution_count": null,
   "metadata": {
    "id": "twt7dZact-My"
   },
   "outputs": [],
   "source": [
    "subpoints = get_sub_points_of_object(label, pc_velo[:,0:3])"
   ]
  },
  {
   "cell_type": "code",
   "execution_count": null,
   "metadata": {
    "id": "B_sB0bMxt-My"
   },
   "outputs": [],
   "source": [
    "data = [go.Scatter3d(x = pc_velo[:,0],\n",
    "                     y = pc_velo[:,1],\n",
    "                     z = pc_velo[:,2],\n",
    "                    mode='markers', type='scatter3d',\n",
    "                    text=np.arange(pc_velo.shape[0]),\n",
    "                    marker={\n",
    "                        'size': 2,\n",
    "                        'color': \"green\",\n",
    "                        'colorscale':'rainbow',\n",
    "}),\n",
    "        go.Scatter3d(x = subpoints[1][:,0],\n",
    "                     y = subpoints[1][:,1],\n",
    "                     z = subpoints[1][:,2],\n",
    "                    mode='markers', type='scatter3d',\n",
    "                    marker={\n",
    "                        'size': 2,\n",
    "                        'color': \"blue\",\n",
    "                        'colorscale':'rainbow',\n",
    "}),\n",
    "        go.Scatter3d(x = bb[:,0],\n",
    "                     y = bb[:,1],\n",
    "                     z = bb[:,2],\n",
    "                    mode='lines', type='scatter3d',\n",
    "                    line={\n",
    "                        'width': 10,\n",
    "                        'color': \"red\",\n",
    "                        'colorscale':'rainbow'\n",
    "})\n",
    "]\n",
    "layout = go.Layout(\n",
    "    scene={\n",
    "        'xaxis': {'range': [-20, 20], 'rangemode': 'tozero', 'tick0': -5},\n",
    "        'yaxis': {'range': [0, 40], 'rangemode': 'tozero', 'tick0': -5},\n",
    "        'zaxis': {'range': [-20., 20.], 'rangemode': 'tozero'}\n",
    "    }\n",
    ")\n",
    "go.Figure(data=data, layout = layout)"
   ]
  },
  {
   "cell_type": "code",
   "execution_count": null,
   "metadata": {
    "id": "DzFa0BX7t-Mz"
   },
   "outputs": [],
   "source": [
    "subpoints = get_sub_points_of_object(label, pc_radar[:,0:3])"
   ]
  },
  {
   "cell_type": "code",
   "execution_count": null,
   "metadata": {
    "id": "8kKq_XV_t-M0"
   },
   "outputs": [],
   "source": [
    "data = [go.Scatter3d(x = pc_radar[:,0],\n",
    "                     y = pc_radar[:,1],\n",
    "                     z = pc_radar[:,2],\n",
    "                    mode='markers', type='scatter3d',\n",
    "                    text=np.arange(pc_radar.shape[0]),\n",
    "                    marker={\n",
    "                        'size': 2,\n",
    "                        'color': \"green\",\n",
    "                        'colorscale':'rainbow',\n",
    "}),\n",
    "        go.Scatter3d(x = subpoints[1][:,0],\n",
    "                     y = subpoints[1][:,1],\n",
    "                     z = subpoints[1][:,2],\n",
    "                    mode='markers', type='scatter3d',\n",
    "                    marker={\n",
    "                        'size': 2,\n",
    "                        'color': \"blue\",\n",
    "                        'colorscale':'rainbow',\n",
    "}),\n",
    "        go.Scatter3d(x = bb[:,0],\n",
    "                     y = bb[:,1],\n",
    "                     z = bb[:,2],\n",
    "                    mode='lines', type='scatter3d',\n",
    "                    line={\n",
    "                        'width': 10,\n",
    "                        'color': \"red\",\n",
    "                        'colorscale':'rainbow'\n",
    "})\n",
    "]\n",
    "layout = go.Layout(\n",
    "    scene={\n",
    "        'xaxis': {'range': [-20, 20], 'rangemode': 'tozero', 'tick0': -5},\n",
    "        'yaxis': {'range': [0, 40], 'rangemode': 'tozero', 'tick0': -5},\n",
    "        'zaxis': {'range': [-20., 20.], 'rangemode': 'tozero'}\n",
    "    }\n",
    ")\n",
    "go.Figure(data=data, layout = layout)"
   ]
  },
  {
   "cell_type": "code",
   "execution_count": null,
   "metadata": {
    "id": "ErvEEJIQt-M1"
   },
   "outputs": [],
   "source": [
    "root = f\"./Dataset2022/record1/\"\n",
    "pts_blick_rec1 = []\n",
    "pts_velo_rec1 = []\n",
    "pts_radar_rec1 = []\n",
    "for i in range(240):\n",
    "    pc_blick = readPC(f\"{root}/blickfeld/{i:06d}.csv\")\n",
    "    pc_velo = readPC(f\"{root}/velodyne/{i:06d}.csv\")\n",
    "    pc_radar = readPC(f\"{root}/radar/{i:06d}.csv\")\n",
    "    label = readLabels(f\"{root}/groundtruth/{i:06d}.csv\")\n",
    "    \n",
    "    pts_blick_rec1 += [get_sub_points_of_object(label, pc_blick[:,0:3])[0].sum()]\n",
    "    pts_velo_rec1 += [get_sub_points_of_object(label, pc_velo[:,0:3])[0].sum()]\n",
    "    pts_radar_rec1 += [get_sub_points_of_object(label, pc_radar[:,0:3])[0].sum()]\n"
   ]
  },
  {
   "cell_type": "code",
   "execution_count": null,
   "metadata": {
    "id": "NkLXUF9Lt-M1",
    "outputId": "03f6ed6b-5e01-4420-f390-8d4f3ee55887"
   },
   "outputs": [],
   "source": [
    "plt.plot(pts_blick_rec1)\n",
    "plt.plot(pts_velo_rec1)\n",
    "plt.plot(pts_radar_rec1)\n",
    "plt.legend([\"Blick\", \"Velodyne\", \"Radar\"])"
   ]
  },
  {
   "cell_type": "code",
   "execution_count": null,
   "metadata": {
    "id": "BufRD5Nat-M2"
   },
   "outputs": [],
   "source": [
    "root = f\"./Dataset2022/record2/\"\n",
    "pts_blick_rec2 = []\n",
    "pts_velo_rec2 = []\n",
    "pts_radar_rec2 = []\n",
    "for i in range(100):\n",
    "    pc_blick = readPC(f\"{root}/blickfeld/{i:06d}.csv\")\n",
    "    pc_velo = readPC(f\"{root}/velodyne/{i:06d}.csv\")\n",
    "    pc_radar = readPC(f\"{root}/radar/{i:06d}.csv\")\n",
    "    label = readLabels(f\"{root}/groundtruth/{i:06d}.csv\")\n",
    "    \n",
    "    pts_blick_rec2 += [get_sub_points_of_object(label, pc_blick[:,0:3])[0].sum()]\n",
    "    pts_velo_rec2 += [get_sub_points_of_object(label, pc_velo[:,0:3])[0].sum()]\n",
    "    pts_radar_rec2 += [get_sub_points_of_object(label, pc_radar[:,0:3])[0].sum()]\n"
   ]
  },
  {
   "cell_type": "code",
   "execution_count": null,
   "metadata": {
    "id": "dXLvL5Rtt-M2",
    "outputId": "09d0d642-134c-489d-f0fe-cfef77474670"
   },
   "outputs": [],
   "source": [
    "plt.plot(pts_blick_rec2)\n",
    "plt.plot(pts_velo_rec2)\n",
    "plt.plot(pts_radar_rec2)\n",
    "plt.legend([\"Blick\", \"Velodyne\", \"Radar\"])"
   ]
  },
  {
   "cell_type": "code",
   "execution_count": null,
   "metadata": {
    "id": "4cpy8TDit-M2"
   },
   "outputs": [],
   "source": []
  },
  {
   "cell_type": "code",
   "execution_count": null,
   "metadata": {
    "id": "1J9EbHwot-M3"
   },
   "outputs": [],
   "source": []
  }
 ],
 "metadata": {
  "colab": {
   "provenance": []
  },
  "kernelspec": {
   "display_name": "Python 3.10.4 64-bit",
   "language": "python",
   "name": "python3"
  },
  "language_info": {
   "codemirror_mode": {
    "name": "ipython",
    "version": 3
   },
   "file_extension": ".py",
   "mimetype": "text/x-python",
   "name": "python",
   "nbconvert_exporter": "python",
   "pygments_lexer": "ipython3",
   "version": "3.10.4"
  },
  "vscode": {
   "interpreter": {
    "hash": "107d7b120a5b68773a87d4067e673630b35702e55ebab3138143d08b1c4d7cbc"
   }
  }
 },
 "nbformat": 4,
 "nbformat_minor": 1
}
